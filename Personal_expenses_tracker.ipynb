{
 "cells": [
  {
   "cell_type": "markdown",
   "id": "05fd463c-5e03-46d4-b216-420e5491dd05",
   "metadata": {},
   "source": [
    "PERSONAL EXPENSE TRACKER\n"
   ]
  },
  {
   "cell_type": "markdown",
   "id": "3c0dd8db-08e2-4eda-a9af-d217cd063d71",
   "metadata": {},
   "source": [
    "WHAT ARE TRACKING ????"
   ]
  },
  {
   "cell_type": "markdown",
   "id": "9412adef-d28a-4470-b206-f9786473d3cb",
   "metadata": {},
   "source": [
    "CREATE VARIABLES"
   ]
  },
  {
   "cell_type": "code",
   "execution_count": 64,
   "id": "1a3cb23c-bd8e-4aaa-8cec-a1ddd80f85eb",
   "metadata": {},
   "outputs": [],
   "source": [
    "user=\"Jimmy\" #str\n",
    "current_month='August 2025' #str\n",
    "currency='$' #str\n",
    "budget = 500.00 #float\n",
    "num_of_days_month = 31 #int\n",
    "is_budget_set = True #bool\n"
   ]
  },
  {
   "cell_type": "code",
   "execution_count": 65,
   "id": "cd3a8439-6064-43b6-ae5c-21cad7eef614",
   "metadata": {},
   "outputs": [],
   "source": [
    "## SINGLE EXPENSE"
   ]
  },
  {
   "cell_type": "code",
   "execution_count": 66,
   "id": "b5bc81de-610b-4790-a503-bd4e5088049e",
   "metadata": {},
   "outputs": [],
   "source": [
    "item ='rent' #str\n",
    "category = 'utility' #str\n",
    "currency = '$' #str\n",
    "Amount = 200.00 #float"
   ]
  },
  {
   "cell_type": "code",
   "execution_count": 67,
   "id": "aff7f07b-1101-4dbe-a5eb-6332d0d3a787",
   "metadata": {},
   "outputs": [
    {
     "name": "stdout",
     "output_type": "stream",
     "text": [
      "Name       Jimmy\n",
      "Time       August 2025\n",
      "Group       utility\n",
      "Price        200.0\n"
     ]
    }
   ],
   "source": [
    "print  ('Name','     ',user)\n",
    "print  ('Time','     ',current_month)\n",
    "print  ('Group','     ',category)\n",
    "print  ('Price','      ',Amount)"
   ]
  },
  {
   "cell_type": "code",
   "execution_count": 78,
   "id": "2ed85458-66a5-41ac-8bd1-aa41634b7a93",
   "metadata": {},
   "outputs": [
    {
     "data": {
      "text/plain": [
       "300.0"
      ]
     },
     "execution_count": 78,
     "metadata": {},
     "output_type": "execute_result"
    }
   ],
   "source": [
    "balance = budget-Amount\n",
    "balance"
   ]
  },
  {
   "cell_type": "code",
   "execution_count": 43,
   "id": "c7956f88-6524-43c9-be0c-b7bc9eced483",
   "metadata": {},
   "outputs": [
    {
     "name": "stdout",
     "output_type": "stream",
     "text": [
      "=========================\n",
      "PERSONAL EXPENSE TRACKER\n",
      "=========================\n",
      "Name              Jimmy\n"
     ]
    }
   ],
   "source": [
    "print ( '=' * 25)\n",
    "print (  'PERSONAL EXPENSE TRACKER')\n",
    "print('='*25)\n",
    "print('Name','            ',user)"
   ]
  },
  {
   "cell_type": "code",
   "execution_count": 72,
   "id": "f314064d-f49e-4f1e-a4b9-84045e06009d",
   "metadata": {},
   "outputs": [],
   "source": [
    "items = ['Rent', 'Electricity', 'Clothes', 'data bundle', 'KFC', 'Netflix']\n",
    "prices = [200.00, 40.00, 50.00, 20, 10, 15]\n",
    "categories = ['Housing', 'Utility', 'Basic', 'Utility', 'Food', 'Entertainment']\n",
    "necessary = [True, True, True, True, False, False]"
   ]
  },
  {
   "cell_type": "code",
   "execution_count": 74,
   "id": "7c0bc4c5-7013-4a64-ad73-3d36ee538108",
   "metadata": {},
   "outputs": [
    {
     "data": {
      "text/plain": [
       "335.0"
      ]
     },
     "execution_count": 74,
     "metadata": {},
     "output_type": "execute_result"
    }
   ],
   "source": [
    "total_cost = sum(prices)\n",
    "total_cost"
   ]
  },
  {
   "cell_type": "code",
   "execution_count": 76,
   "id": "5e7f4aac-4ccc-4c9a-8c2a-87db2a5f85cf",
   "metadata": {},
   "outputs": [
    {
     "data": {
      "text/plain": [
       "6"
      ]
     },
     "execution_count": 76,
     "metadata": {},
     "output_type": "execute_result"
    }
   ],
   "source": [
    "no_of_items = len(items)\n",
    "no_of_items"
   ]
  },
  {
   "cell_type": "code",
   "execution_count": 79,
   "id": "a358618a-e78a-427c-b982-1cfd86c9e4f5",
   "metadata": {},
   "outputs": [
    {
     "name": "stdout",
     "output_type": "stream",
     "text": [
      "===================================\n",
      "        Expenses Tracker\n",
      "===================================\n",
      "Owner                 Jimmy\n",
      "Period                August 2025\n",
      "-----------------------------------\n",
      "Currency              $\n",
      "Starting Balance      500.0\n",
      "total_amount        335.0\n",
      "-----------------------------------\n",
      "Closing Balance       300.0\n",
      "Transactions          6\n",
      "===================================\n",
      "       See you next month\n",
      "===================================\n"
     ]
    }
   ],
   "source": [
    "print(\"=\" * 35)\n",
    "print(\"        Expenses Tracker\")\n",
    "print(\"=\" * 35)\n",
    "print(\"Owner\",'               ',user)\n",
    "print(\"Period\", '              ',current_month)\n",
    "print('-' * 35)\n",
    "print(\"Currency\", '            ',currency)\n",
    "print(\"Starting Balance\", '    ',budget)\n",
    "print(\"total_amount\", '      ',total_cost)\n",
    "print('-' * 35)\n",
    "print(\"Closing Balance\", '     ', balance)\n",
    "print(\"Transactions\", '        ',no_of_items)\n",
    "print(\"=\" * 35)\n",
    "print(\"       See you next month\")\n",
    "print(\"=\" * 35)"
   ]
  },
  {
   "cell_type": "code",
   "execution_count": null,
   "id": "0c0c3538-ae22-4cbb-86f9-bf3162ca1a22",
   "metadata": {},
   "outputs": [],
   "source": []
  }
 ],
 "metadata": {
  "kernelspec": {
   "display_name": "Python [conda env:New folder]",
   "language": "python",
   "name": "conda-env-New_folder-py"
  },
  "language_info": {
   "codemirror_mode": {
    "name": "ipython",
    "version": 3
   },
   "file_extension": ".py",
   "mimetype": "text/x-python",
   "name": "python",
   "nbconvert_exporter": "python",
   "pygments_lexer": "ipython3",
   "version": "3.12.7"
  }
 },
 "nbformat": 4,
 "nbformat_minor": 5
}
